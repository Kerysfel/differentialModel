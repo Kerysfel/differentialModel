{
 "cells": [
  {
   "cell_type": "markdown",
   "metadata": {},
   "source": [
    "Diffusion Models - Live Coding Tutorial\n",
    "url: https://www.youtube.com/watch?v=S_il77Ttrmg"
   ]
  },
  {
   "cell_type": "code",
   "execution_count": 11,
   "metadata": {},
   "outputs": [
    {
     "name": "stdout",
     "output_type": "stream",
     "text": [
      "tensor([0.9500, 0.9000, 0.8500, 0.8000, 0.7500])\n",
      "tensor([0.9500, 0.8550, 0.7268, 0.5814, 0.4360])\n",
      "torch.Size([5])\n",
      "tensor([[[[0.8550]]],\n",
      "\n",
      "\n",
      "        [[[0.5814]]]])\n",
      "torch.Size([2, 1, 1, 1])\n"
     ]
    },
    {
     "data": {
      "text/plain": [
       "torch.Size([2, 3, 32, 32])"
      ]
     },
     "execution_count": 11,
     "metadata": {},
     "output_type": "execute_result"
    }
   ],
   "source": [
    "\"\"\"\n",
    "mean = sqrt(a_hat_t) * x_0)\n",
    "variance = sqrt(1 - a_hat_t) * random_noise\n",
    "\"\"\"\n",
    "import torch\n",
    "\n",
    "x0 = torch.randn(2, 3, 32, 32) \n",
    "betas = torch.tensor([0.05, 0.1, 0.15, 0.2, 0.25])\n",
    "t = torch.tensor([1, 3])\n",
    "\n",
    "# betas -> количество шума, которое применяется на каждом шаге процесса диффузии\n",
    "# alphas -> 1 - betas -> количество информации об исходном изображении, сохраняемое после процесса диффузии\n",
    "\n",
    "alphas = 1 - betas\n",
    "\n",
    "alpha_hat = torch.cumprod(alphas, axis = 0)\n",
    "print(alphas)\n",
    "print(alpha_hat)\n",
    "print(alpha_hat.size())\n",
    "result = alpha_hat.gather(-1, t).reshape(-1, 1, 1, 1)\n",
    "print(result)\n",
    "print(result.size())\n",
    "\n",
    "noise = torch.rand_like(x0)\n",
    "mean = result.sqrt() * x0\n",
    "variance = torch.sqrt(1 - result) * noise\n",
    "\n",
    "x_t = mean + variance\n",
    "x_t.size()"
   ]
  },
  {
   "cell_type": "code",
   "execution_count": null,
   "metadata": {},
   "outputs": [],
   "source": []
  }
 ],
 "metadata": {
  "kernelspec": {
   "display_name": "diffusionModel",
   "language": "python",
   "name": "python3"
  },
  "language_info": {
   "codemirror_mode": {
    "name": "ipython",
    "version": 3
   },
   "file_extension": ".py",
   "mimetype": "text/x-python",
   "name": "python",
   "nbconvert_exporter": "python",
   "pygments_lexer": "ipython3",
   "version": "3.11.5"
  }
 },
 "nbformat": 4,
 "nbformat_minor": 2
}
